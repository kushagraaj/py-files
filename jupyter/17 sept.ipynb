{
 "cells": [
  {
   "cell_type": "code",
   "execution_count": 7,
   "id": "cb098427",
   "metadata": {
    "scrolled": false
   },
   "outputs": [
    {
     "name": "stdout",
     "output_type": "stream",
     "text": [
      "Enter the length of first side 3\n",
      "Enter the length of second side 4\n",
      "Enter the length of third side 5\n",
      "The triangle is a right angled triangle\n"
     ]
    }
   ],
   "source": [
    "a=int(input(\"Enter the length of first side \"))\n",
    "b=int(input(\"Enter the length of second side \"))\n",
    "c=int(input(\"Enter the length of third side \"))\n",
    "\n",
    "sides=sorted([a,b,c])\n",
    "\n",
    "if (sides[0]**2+sides[1]**2 == sides[2]**2):\n",
    "    print(\"The triangle is a right angled triangle\")\n",
    "else:\n",
    "    print(\"The triangle is not right angled\")"
   ]
  },
  {
   "cell_type": "code",
   "execution_count": 8,
   "id": "c39f4844",
   "metadata": {},
   "outputs": [
    {
     "name": "stdout",
     "output_type": "stream",
     "text": [
      "Enter the 1st number: 2\n",
      "Enter the 2nd number: 3\n",
      "Addition =  5\n",
      "Substration =  -1\n",
      "Multiplication =  6\n",
      "Division =  0.6666666666666666\n"
     ]
    }
   ],
   "source": [
    "# user defined functions\n",
    "\n",
    "def add(a,b):\n",
    "    sum=a+b\n",
    "    return sum  \n",
    "\n",
    "def sub(a,b):\n",
    "    sub=a-b\n",
    "    return sub\n",
    "\n",
    "def multi(a,b):\n",
    "    multi=a*b\n",
    "    return multi\n",
    "\n",
    "def div(a,b):\n",
    "    div=a/b\n",
    "    return div\n",
    "n=int(input(\"Enter the 1st number: \"))\n",
    "m=int(input(\"Enter the 2nd number: \"))\n",
    "print(\"Addition = \",add(n,m))\n",
    "print(\"Substration = \",sub(n,m))\n",
    "print(\"Multiplication = \",multi(n,m))\n",
    "print(\"Division = \",div(n,m))\n",
    "    "
   ]
  },
  {
   "cell_type": "code",
   "execution_count": null,
   "id": "849c6ae9",
   "metadata": {},
   "outputs": [],
   "source": [
    "def add(a,b):\n",
    "    sum=a+b\n",
    "\n",
    "    return sum  \n",
    "\n",
    "# print(\"The addition is \",add(3,4,7))\n",
    "def sub(a,b):\n",
    "    sub=a-b\n",
    "\n",
    "    return sub\n",
    "\n",
    "def multi(a,b):\n",
    "    multi=a*b\n",
    "\n",
    "    return multi\n",
    "\n",
    "def div(a,b):\n",
    "    div=a/b\n",
    "\n",
    "    return div\n",
    "def operations():\n",
    "    if(opp==\"+\"):\n",
    "        print(\"Addition = \",add(n,m))\n",
    "    elif(opp==\"-\"):\n",
    "        print(\"Substration = \",sub(n,m))\n",
    "    elif(opp==\"*\"):\n",
    "        print(\"Multiplication = \",multi(n,m))\n",
    "    elif(opp==\"/\"):\n",
    "        print(\"Division = \",div(n,m))\n",
    "    else:\n",
    "        print(\"Wrong Opperator\")\n",
    "\n",
    "\n",
    "\n",
    "        \n",
    "n=int(input(\"Enter the 1st number: \"))\n",
    "m=int(input(\"Enter the 2nd number: \"))\n",
    "opp=input(\"Enter the opperator: \")\n",
    "operations()"
   ]
  }
 ],
 "metadata": {
  "kernelspec": {
   "display_name": "Python 3 (ipykernel)",
   "language": "python",
   "name": "python3"
  },
  "language_info": {
   "codemirror_mode": {
    "name": "ipython",
    "version": 3
   },
   "file_extension": ".py",
   "mimetype": "text/x-python",
   "name": "python",
   "nbconvert_exporter": "python",
   "pygments_lexer": "ipython3",
   "version": "3.9.13"
  }
 },
 "nbformat": 4,
 "nbformat_minor": 5
}
