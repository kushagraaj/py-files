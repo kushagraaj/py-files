{
 "cells": [
  {
   "cell_type": "code",
   "execution_count": null,
   "id": "02aa1a7b",
   "metadata": {},
   "outputs": [],
   "source": [
    "num = int(input(\"Enter a number of your choice:\"))\n",
    "if num>0;\n",
    "    print(f\"{num} is a positive number\")\n",
    "elif num < 0:\n",
    "    print(f\"{num} is a negative number\")\n",
    "else:\n",
    "    print(f\"{num} is ZERO\")"
   ]
  },
  {
   "cell_type": "code",
   "execution_count": 11,
   "id": "9d74cf78",
   "metadata": {},
   "outputs": [
    {
     "name": "stdout",
     "output_type": "stream",
     "text": [
      "Enter your age:10\n",
      "Child\n"
     ]
    }
   ],
   "source": [
    "age = int(input(\"Enter your age:\"))\n",
    "if age<13:\n",
    "    print(\"Child\")\n",
    "elif age>12 and age <20:\n",
    "    print(\"Teenager\")\n",
    "else:\n",
    "    print(\"Adult\")"
   ]
  },
  {
   "cell_type": "code",
   "execution_count": 5,
   "id": "e95a6edb",
   "metadata": {},
   "outputs": [
    {
     "name": "stdout",
     "output_type": "stream",
     "text": [
      "Enter the number of your choice:45\n",
      "45 is a ODD number.\n"
     ]
    }
   ],
   "source": [
    "num = int(input(\"Enter the number of your choice:\"))\n",
    "if num%2==0:\n",
    "    print(f\"{num} is an EVEN number.\")\n",
    "else:\n",
    "    print(f\"{num} is a ODD number.\")"
   ]
  },
  {
   "cell_type": "code",
   "execution_count": 6,
   "id": "262dc2c5",
   "metadata": {},
   "outputs": [
    {
     "name": "stdout",
     "output_type": "stream",
     "text": [
      "Enter the number of your choice:2\n",
      "Enter another number of your choice:5\n",
      "Enter another number of your choice:7\n",
      "7 is the largest number out of all the three entered numbers\n"
     ]
    }
   ],
   "source": [
    "a = int(input(\"Enter the number of your choice:\"))\n",
    "b = int(input(\"Enter another number of your choice:\"))\n",
    "c = int(input(\"Enter another number of your choice:\"))\n",
    "d=max(a,b,c)\n",
    "\n",
    "print(f\"{d} is the largest number out of all the three entered numbers\")"
   ]
  },
  {
   "cell_type": "code",
   "execution_count": 7,
   "id": "563862be",
   "metadata": {},
   "outputs": [
    {
     "name": "stdout",
     "output_type": "stream",
     "text": [
      "Enter the final bill amount:5000\n",
      "Final price: $ 4000.00\n"
     ]
    }
   ],
   "source": [
    "bill = int(input(\"Enter the final bill amount:\"))\n",
    "if bill > 500:\n",
    "    final = float((bill*80)/100)\n",
    "elif bill > 500:\n",
    "    final = float((bill*90/100))\n",
    "else: \n",
    "    final = bill\n",
    "print(f\"Final price: ${final: .2f}\")"
   ]
  },
  {
   "cell_type": "code",
   "execution_count": null,
   "id": "8f41bf20",
   "metadata": {},
   "outputs": [],
   "source": [
    "a = int(input(\"Enter the number of your choice: \"))\n",
    "b = int(input(\"Enter another number of your choice: \"))\n",
    "c = int(input(\"Enter another number of your choice: \"))\n",
    "if a>b:\n",
    "    if a>c:\n",
    "        print(f\"{a} is LARGEST\")\n",
    "    elif a == c:\n",
    "        print(f\"number = {c} is  LARGEST\")\n",
    "    else:\n",
    "        print(f\"{c} is LARGEST\")\n",
    "elif b>c:\n",
    "    if b>a:\n",
    "        print(f\"{b} is LARGEST\")\n",
    "    elif b == a:\n",
    "        print(f\"number = {b} is  LARGEST\")\n",
    "    else:\n",
    "        print(f\"{a} is LARGEST\")\n",
    "elif a>c:\n",
    "    if a>b:\n",
    "        print(f\"{a} is LARGEST\")\n",
    "    elif a == b:\n",
    "        print(f\"number = {a} is  LARGEST\")\n",
    "    else:\n",
    "        print(f\"{b} is LARGEST\")\n",
    "elif b>a:\n",
    "    if b>c:\n",
    "        print(f\"{b} is LARGEST\")\n",
    "    elif b == c:\n",
    "        print(f\"number = {b} is  LARGEST\")\n",
    "    else:\n",
    "        print(f\"{c} is LARGEST\")\n",
    "elif c>b:\n",
    "    if c>a:\n",
    "        print(f\"{c} is LARGEST\")\n",
    "    elif c == a:\n",
    "        print(f\"number = {c} is  LARGEST\")\n",
    "    else:\n",
    "        print(f\"{c} is LARGEST\")\n",
    "elif c>a:\n",
    "    if c>b:\n",
    "        print(f\"{c} is LARGEST\")\n",
    "    elif c == b:\n",
    "        print(f\"number = {c} is  LARGEST\")\n",
    "    else:\n",
    "        print(f\"{b} is LARGEST\")\n",
    "else:\n",
    "    print(\"ALL ARE EQUAL\")"
   ]
  },
  {
   "cell_type": "code",
   "execution_count": null,
   "id": "c16e6f33",
   "metadata": {},
   "outputs": [],
   "source": []
  }
 ],
 "metadata": {
  "kernelspec": {
   "display_name": "Python 3 (ipykernel)",
   "language": "python",
   "name": "python3"
  },
  "language_info": {
   "codemirror_mode": {
    "name": "ipython",
    "version": 3
   },
   "file_extension": ".py",
   "mimetype": "text/x-python",
   "name": "python",
   "nbconvert_exporter": "python",
   "pygments_lexer": "ipython3",
   "version": "3.9.13"
  }
 },
 "nbformat": 4,
 "nbformat_minor": 5
}
