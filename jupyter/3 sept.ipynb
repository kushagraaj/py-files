{
 "cells": [
  {
   "cell_type": "code",
   "execution_count": 1,
   "id": "4dca9592",
   "metadata": {},
   "outputs": [
    {
     "name": "stdout",
     "output_type": "stream",
     "text": [
      "The Tuple is: ('Delhi', 'Mumbai', 'Chennai', 'Delhi', 'Kolkata')\n",
      "First city: Delhi\n",
      "Last two cities using slicing: ('Delhi', 'Kolkata')\n",
      "Number of times Delhi appears: 2\n",
      "Index of Kolkata is: 4\n"
     ]
    }
   ],
   "source": [
    "# question number 1 from the ppt\n",
    "l7=(\"Delhi\", \"Mumbai\", \"Chennai\", \"Delhi\", \"Kolkata\")\n",
    "\n",
    "print(\"The Tuple is:\", l7)\n",
    "# Task number 1\n",
    "print(\"First city:\", l7[0])\n",
    "\n",
    "# Task number 2 (slicing)\n",
    "print(\"Last two cities using slicing:\", l7[3:])\n",
    "\n",
    "# Task number 3 (count the number of times delhi appears in the tuple)\n",
    "print(\"Number of times Delhi appears:\", l7.count(\"Delhi\"))\n",
    "\n",
    "# Task number 4\n",
    "print(\"Index of Kolkata is:\", l7.index(\"Kolkata\"))\n"
   ]
  },
  {
   "cell_type": "code",
   "execution_count": 2,
   "id": "0af73ad1",
   "metadata": {},
   "outputs": [
    {
     "name": "stdout",
     "output_type": "stream",
     "text": [
      "Highest marks: 92 \n",
      "Lowest marks: 78 \n",
      "Average: 86.6\n",
      "Updated list: [78, 95, 88, 90, 92]\n",
      "Tuple: (78, 95, 88, 90, 92)\n"
     ]
    }
   ],
   "source": [
    "# question number 2\n",
    "\n",
    "l2=(85, 90, 78, 92, 88)\n",
    "\n",
    "l2= list(l2)\n",
    "l2.sort()\n",
    "a,b,c,d,e=l2\n",
    "\n",
    "print(\"Highest marks:\", l2[4], \"\\nLowest marks:\", l2[0], \"\\nAverage:\", (a+b+c+d+e)/5)\n",
    "\n",
    "l2[1] = 95\n",
    "\n",
    "print(\"Updated list:\", l2)\n",
    "\n",
    "l2_tuple = tuple(l2)\n",
    "print(\"Tuple:\", l2_tuple)"
   ]
  },
  {
   "cell_type": "code",
   "execution_count": null,
   "id": "17f15cbc",
   "metadata": {},
   "outputs": [],
   "source": []
  }
 ],
 "metadata": {
  "kernelspec": {
   "display_name": "Python 3 (ipykernel)",
   "language": "python",
   "name": "python3"
  },
  "language_info": {
   "codemirror_mode": {
    "name": "ipython",
    "version": 3
   },
   "file_extension": ".py",
   "mimetype": "text/x-python",
   "name": "python",
   "nbconvert_exporter": "python",
   "pygments_lexer": "ipython3",
   "version": "3.9.13"
  }
 },
 "nbformat": 4,
 "nbformat_minor": 5
}
